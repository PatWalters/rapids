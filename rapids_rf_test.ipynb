{
 "cells": [
  {
   "cell_type": "markdown",
   "metadata": {},
   "source": [
    "A short notebook demonstrating an out of memory error using RDKit fingerprints to build a RandomForest model"
   ]
  },
  {
   "cell_type": "code",
   "execution_count": 49,
   "metadata": {},
   "outputs": [],
   "source": [
    "import pandas as pd\n",
    "from rdkit import Chem, DataStructs\n",
    "from rdkit.Chem import AllChem\n",
    "import numpy as np\n",
    "from tqdm.notebook import tqdm\n",
    "from cuml import RandomForestRegressor \n",
    "import cudf"
   ]
  },
  {
   "cell_type": "markdown",
   "metadata": {},
   "source": [
    "Read a SMILES file into a dataframe"
   ]
  },
  {
   "cell_type": "code",
   "execution_count": 50,
   "metadata": {},
   "outputs": [],
   "source": [
    "df = pd.read_csv('A2a.smi',sep=\" \",names=\"SMILES Name IC50\".split())"
   ]
  },
  {
   "cell_type": "code",
   "execution_count": 51,
   "metadata": {},
   "outputs": [
    {
     "data": {
      "text/html": [
       "<div>\n",
       "<style scoped>\n",
       "    .dataframe tbody tr th:only-of-type {\n",
       "        vertical-align: middle;\n",
       "    }\n",
       "\n",
       "    .dataframe tbody tr th {\n",
       "        vertical-align: top;\n",
       "    }\n",
       "\n",
       "    .dataframe thead th {\n",
       "        text-align: right;\n",
       "    }\n",
       "</style>\n",
       "<table border=\"1\" class=\"dataframe\">\n",
       "  <thead>\n",
       "    <tr style=\"text-align: right;\">\n",
       "      <th></th>\n",
       "      <th>SMILES</th>\n",
       "      <th>Name</th>\n",
       "      <th>IC50</th>\n",
       "    </tr>\n",
       "  </thead>\n",
       "  <tbody>\n",
       "    <tr>\n",
       "      <th>0</th>\n",
       "      <td>CNCC1CC2c3ccccc3Cc3ccccc3N2O1</td>\n",
       "      <td>CHEMBL81485</td>\n",
       "      <td>6.360</td>\n",
       "    </tr>\n",
       "    <tr>\n",
       "      <th>1</th>\n",
       "      <td>CN(C)CC1CC2c3ccccc3Cc3ccccc3N2O1</td>\n",
       "      <td>CHEMBL83658</td>\n",
       "      <td>6.430</td>\n",
       "    </tr>\n",
       "    <tr>\n",
       "      <th>2</th>\n",
       "      <td>CN1CCN2c3ccccc3Cc3ccccc3C2C1</td>\n",
       "      <td>CHEMBL6437</td>\n",
       "      <td>7.525</td>\n",
       "    </tr>\n",
       "    <tr>\n",
       "      <th>3</th>\n",
       "      <td>CN(C)CC1CC2c3ccccc3Cc3ccc(Cl)cc3N2O1</td>\n",
       "      <td>CHEMBL315772</td>\n",
       "      <td>6.320</td>\n",
       "    </tr>\n",
       "    <tr>\n",
       "      <th>4</th>\n",
       "      <td>CC(N)Cc1c[nH]c2ccc3c(c12)CCCO3</td>\n",
       "      <td>CHEMBL133455</td>\n",
       "      <td>4.720</td>\n",
       "    </tr>\n",
       "    <tr>\n",
       "      <th>...</th>\n",
       "      <td>...</td>\n",
       "      <td>...</td>\n",
       "      <td>...</td>\n",
       "    </tr>\n",
       "    <tr>\n",
       "      <th>198</th>\n",
       "      <td>CCN1CCCC1CNC(=O)c1cc(S(N)(=O)=O)ccc1OC</td>\n",
       "      <td>CHEMBL26</td>\n",
       "      <td>5.700</td>\n",
       "    </tr>\n",
       "    <tr>\n",
       "      <th>199</th>\n",
       "      <td>O=C(c1ccc(OCCN2CCCCC2)cc1)c1c(-c2ccc(O)cc2)sc2...</td>\n",
       "      <td>CHEMBL81</td>\n",
       "      <td>5.780</td>\n",
       "    </tr>\n",
       "    <tr>\n",
       "      <th>200</th>\n",
       "      <td>N=C(Nc1ccc2c(c1)CCN2C1CCNCC1)c1cccs1</td>\n",
       "      <td>CHEMBL2203713</td>\n",
       "      <td>4.620</td>\n",
       "    </tr>\n",
       "    <tr>\n",
       "      <th>201</th>\n",
       "      <td>Cc1ccc(OCC(O)C(C)NC(C)C)c2c1CCC2</td>\n",
       "      <td>CHEMBL513389</td>\n",
       "      <td>9.300</td>\n",
       "    </tr>\n",
       "    <tr>\n",
       "      <th>202</th>\n",
       "      <td>COCCCOc1cc(C(=O)N(CC2CNCC2OC(=O)NCc2ccccc2)C(C...</td>\n",
       "      <td>CHEMBL3403995</td>\n",
       "      <td>6.000</td>\n",
       "    </tr>\n",
       "  </tbody>\n",
       "</table>\n",
       "<p>203 rows × 3 columns</p>\n",
       "</div>"
      ],
      "text/plain": [
       "                                                SMILES           Name   IC50\n",
       "0                        CNCC1CC2c3ccccc3Cc3ccccc3N2O1    CHEMBL81485  6.360\n",
       "1                     CN(C)CC1CC2c3ccccc3Cc3ccccc3N2O1    CHEMBL83658  6.430\n",
       "2                         CN1CCN2c3ccccc3Cc3ccccc3C2C1     CHEMBL6437  7.525\n",
       "3                 CN(C)CC1CC2c3ccccc3Cc3ccc(Cl)cc3N2O1   CHEMBL315772  6.320\n",
       "4                       CC(N)Cc1c[nH]c2ccc3c(c12)CCCO3   CHEMBL133455  4.720\n",
       "..                                                 ...            ...    ...\n",
       "198             CCN1CCCC1CNC(=O)c1cc(S(N)(=O)=O)ccc1OC       CHEMBL26  5.700\n",
       "199  O=C(c1ccc(OCCN2CCCCC2)cc1)c1c(-c2ccc(O)cc2)sc2...       CHEMBL81  5.780\n",
       "200               N=C(Nc1ccc2c(c1)CCN2C1CCNCC1)c1cccs1  CHEMBL2203713  4.620\n",
       "201                   Cc1ccc(OCC(O)C(C)NC(C)C)c2c1CCC2   CHEMBL513389  9.300\n",
       "202  COCCCOc1cc(C(=O)N(CC2CNCC2OC(=O)NCc2ccccc2)C(C...  CHEMBL3403995  6.000\n",
       "\n",
       "[203 rows x 3 columns]"
      ]
     },
     "execution_count": 51,
     "metadata": {},
     "output_type": "execute_result"
    }
   ],
   "source": [
    "df"
   ]
  },
  {
   "cell_type": "markdown",
   "metadata": {},
   "source": [
    "A function to generate RDKit fingerprints from SMILES"
   ]
  },
  {
   "cell_type": "code",
   "execution_count": 52,
   "metadata": {},
   "outputs": [],
   "source": [
    "def fp_list_from_smiles_list(smiles_list,n_bits=2048):\n",
    "    fp_list = []\n",
    "    for smiles in tqdm(smiles_list):\n",
    "        mol = Chem.MolFromSmiles(smiles)\n",
    "        if mol:\n",
    "            fp_list.append(fp_as_array(mol,n_bits))\n",
    "        else:\n",
    "            fp_list.append(None)\n",
    "    return fp_list\n",
    "\n",
    "def fp_as_array(mol,n_bits=2048):\n",
    "    fp = AllChem.GetMorganFingerprintAsBitVect(mol, 2, nBits=n_bits)\n",
    "    arr = np.zeros((1,), np.int)\n",
    "    DataStructs.ConvertToNumpyArray(fp, arr)\n",
    "    return arr"
   ]
  },
  {
   "cell_type": "markdown",
   "metadata": {},
   "source": [
    "Generate the fingerprints"
   ]
  },
  {
   "cell_type": "code",
   "execution_count": 53,
   "metadata": {},
   "outputs": [
    {
     "data": {
      "application/vnd.jupyter.widget-view+json": {
       "model_id": "e52a9387528f4415a5bd5c4d5b6f517f",
       "version_major": 2,
       "version_minor": 0
      },
      "text/plain": [
       "HBox(children=(FloatProgress(value=0.0, max=203.0), HTML(value='')))"
      ]
     },
     "metadata": {},
     "output_type": "display_data"
    },
    {
     "name": "stdout",
     "output_type": "stream",
     "text": [
      "\n"
     ]
    }
   ],
   "source": [
    "fp_list = fp_list_from_smiles_list(df.SMILES)"
   ]
  },
  {
   "cell_type": "markdown",
   "metadata": {},
   "source": [
    "A function to convert a numpy array into a cudf"
   ]
  },
  {
   "cell_type": "code",
   "execution_count": 37,
   "metadata": {},
   "outputs": [],
   "source": [
    "def np2cudf(arr):\n",
    "    # convert numpy array to cudf dataframe\n",
    "    df = pd.DataFrame({'fea%d'%i:arr[:,i] for i in range(arr.shape[1])})\n",
    "    pdf = cudf.DataFrame()\n",
    "    for c,column in enumerate(df):\n",
    "        pdf[str(c)] = df[column]\n",
    "    return pdf"
   ]
  },
  {
   "cell_type": "markdown",
   "metadata": {},
   "source": [
    "Put X and y into cudf"
   ]
  },
  {
   "cell_type": "code",
   "execution_count": 54,
   "metadata": {},
   "outputs": [],
   "source": [
    "X = np2cudf(np.array(fp_list,dtype=np.float32))\n",
    "y = cudf.Series(df.IC50)"
   ]
  },
  {
   "cell_type": "markdown",
   "metadata": {},
   "source": [
    "Try to fit the model and get an out of memory error"
   ]
  },
  {
   "cell_type": "code",
   "execution_count": 55,
   "metadata": {},
   "outputs": [
    {
     "ename": "MemoryError",
     "evalue": "std::bad_alloc: CUDA error at: /conda/conda-bld/librmm_1591196551527/work/include/rmm/mr/device/cuda_memory_resource.hpp66: cudaErrorMemoryAllocation out of memory",
     "output_type": "error",
     "traceback": [
      "\u001b[0;31m---------------------------------------------------------------------------\u001b[0m",
      "\u001b[0;31mMemoryError\u001b[0m                               Traceback (most recent call last)",
      "\u001b[0;32m<ipython-input-55-d8c15f1e03c2>\u001b[0m in \u001b[0;36m<module>\u001b[0;34m\u001b[0m\n\u001b[0;32m----> 1\u001b[0;31m \u001b[0mrf\u001b[0m\u001b[0;34m.\u001b[0m\u001b[0mfit\u001b[0m\u001b[0;34m(\u001b[0m\u001b[0mX\u001b[0m\u001b[0;34m,\u001b[0m\u001b[0my\u001b[0m\u001b[0;34m)\u001b[0m\u001b[0;34m\u001b[0m\u001b[0;34m\u001b[0m\u001b[0m\n\u001b[0m",
      "\u001b[0;32mcuml/ensemble/randomforestregressor.pyx\u001b[0m in \u001b[0;36mcuml.ensemble.randomforestregressor.RandomForestRegressor.fit\u001b[0;34m()\u001b[0m\n",
      "\u001b[0;31mMemoryError\u001b[0m: std::bad_alloc: CUDA error at: /conda/conda-bld/librmm_1591196551527/work/include/rmm/mr/device/cuda_memory_resource.hpp66: cudaErrorMemoryAllocation out of memory"
     ]
    }
   ],
   "source": [
    "rf.fit(X,y)"
   ]
  },
  {
   "cell_type": "code",
   "execution_count": null,
   "metadata": {},
   "outputs": [],
   "source": []
  }
 ],
 "metadata": {
  "kernelspec": {
   "display_name": "Python 3",
   "language": "python",
   "name": "python3"
  },
  "language_info": {
   "codemirror_mode": {
    "name": "ipython",
    "version": 3
   },
   "file_extension": ".py",
   "mimetype": "text/x-python",
   "name": "python",
   "nbconvert_exporter": "python",
   "pygments_lexer": "ipython3",
   "version": "3.6.10"
  }
 },
 "nbformat": 4,
 "nbformat_minor": 4
}
